{
 "cells": [
  {
   "cell_type": "code",
   "execution_count": 1,
   "id": "bb4c24f7",
   "metadata": {
    "ExecuteTime": {
     "end_time": "2022-01-25T17:28:16.759973Z",
     "start_time": "2022-01-25T17:28:15.546590Z"
    }
   },
   "outputs": [],
   "source": [
    "import os\n",
    "import torch\n",
    "import pandas as pd\n",
    "from sklearn.model_selection import train_test_split\n",
    "import numpy as np\n",
    "import torch.nn as nn\n",
    "import torch.nn.functional as F\n",
    "from PIL import Image\n",
    "import matplotlib.pyplot as plt\n",
    "from torch.utils.data import Dataset, DataLoader\n",
    "from torchvision import transforms, utils\n",
    "from trainer import Trainer\n",
    "from model import ResidualUnet,DewarpingUNet\n",
    "from loss import *\n",
    "from DewarpingDataset import DewarpingDataset"
   ]
  },
  {
   "cell_type": "code",
   "execution_count": 2,
   "id": "92235a5c",
   "metadata": {
    "ExecuteTime": {
     "end_time": "2022-01-25T17:28:13.257654Z",
     "start_time": "2022-01-25T17:28:13.255725Z"
    }
   },
   "outputs": [],
   "source": [
    "# x = [\"data/in/\"+\"_\".join(i.split(\"_\")[:-1])+\".jpg\" for i in os.listdir(\"data/out\")]\n",
    "# y = [\"data/out/\"+i for i in os.listdir(\"data/out\")]\n",
    "# paths = list(zip(y,x))\n",
    "# pd.DataFrame(paths,columns=['generated','original']).to_csv(\"data.csv\",index=False,header=False)"
   ]
  },
  {
   "cell_type": "code",
   "execution_count": 3,
   "id": "4a0fd517",
   "metadata": {
    "ExecuteTime": {
     "end_time": "2022-01-25T16:52:32.007794Z",
     "start_time": "2022-01-25T16:52:32.005444Z"
    }
   },
   "outputs": [],
   "source": [
    "composed = transforms.Compose([transforms.Resize((512,512)),transforms.ToTensor()])"
   ]
  },
  {
   "cell_type": "code",
   "execution_count": 4,
   "id": "bc4a110f",
   "metadata": {
    "ExecuteTime": {
     "end_time": "2022-01-25T16:52:32.014177Z",
     "start_time": "2022-01-25T16:52:32.008993Z"
    }
   },
   "outputs": [],
   "source": [
    "dataset = DewarpingDataset(\"data.csv\",transform=composed)"
   ]
  },
  {
   "cell_type": "code",
   "execution_count": 5,
   "id": "fc5fd48c",
   "metadata": {
    "ExecuteTime": {
     "end_time": "2022-01-25T16:52:32.017567Z",
     "start_time": "2022-01-25T16:52:32.015286Z"
    }
   },
   "outputs": [],
   "source": [
    "train_index, test_index = train_test_split(np.arange(len(dataset)),random_state=0)"
   ]
  },
  {
   "cell_type": "code",
   "execution_count": 6,
   "id": "5c668152",
   "metadata": {
    "ExecuteTime": {
     "end_time": "2022-01-25T16:52:32.021058Z",
     "start_time": "2022-01-25T16:52:32.018639Z"
    }
   },
   "outputs": [],
   "source": [
    "dataloader_training = DataLoader(dataset,sampler=train_index,batch_size=4)\n",
    "dataloader_validation = DataLoader(dataset,sampler=train_index,batch_size=2)"
   ]
  },
  {
   "cell_type": "code",
   "execution_count": 7,
   "id": "932560f9",
   "metadata": {},
   "outputs": [],
   "source": [
    "if torch.cuda.is_available():\n",
    "    device = torch.device('cuda')\n",
    "else:\n",
    "    torch.device('cpu')\n",
    "\n",
    "# model\n",
    "model = ResidualUnet(3,1).to(device)#DewarpingUNet(3,1).to(device)\n",
    "\n",
    "# criterion\n",
    "criterion =  MS_SSIM_Loss(data_range=1.0, size_average=True, channel=1)\n",
    "\n",
    "# optimizer \n",
    "optimizer = torch.optim.SGD(model.parameters(), lr=10**(-4))\n",
    "\n",
    "scheduler = torch.optim.lr_scheduler.StepLR(optimizer,  0.1, gamma=50)"
   ]
  },
  {
   "cell_type": "code",
   "execution_count": 8,
   "id": "5d41ff7a",
   "metadata": {
    "scrolled": true
   },
   "outputs": [],
   "source": [
    "# from lr_rate_finder import LearningRateFinder\n",
    "\n",
    "# lrf = LearningRateFinder(model, criterion, optimizer, device)\n",
    "# lrf.fit(dataloader_training, steps=1000)\n"
   ]
  },
  {
   "cell_type": "code",
   "execution_count": 9,
   "id": "3087fa00",
   "metadata": {},
   "outputs": [],
   "source": [
    "# lrf.plot()"
   ]
  },
  {
   "cell_type": "code",
   "execution_count": null,
   "id": "2d09bccc",
   "metadata": {
    "ExecuteTime": {
     "end_time": "2022-01-25T16:52:42.120449Z",
     "start_time": "2022-01-25T16:52:32.029126Z"
    }
   },
   "outputs": [
    {
     "name": "stderr",
     "output_type": "stream",
     "text": [
      "Failed to detect the name of this notebook, you can set it manually with the WANDB_NOTEBOOK_NAME environment variable to enable code saving.\n",
      "\u001b[34m\u001b[1mwandb\u001b[0m: Currently logged in as: \u001b[33mmfilan\u001b[0m (use `wandb login --relogin` to force relogin)\n"
     ]
    },
    {
     "data": {
      "text/html": [
       "\n",
       "                    Syncing run <strong><a href=\"https://wandb.ai/mfilan/image%20dewarping/runs/t8ky73ds\" target=\"_blank\">stoic-dawn-56</a></strong> to <a href=\"https://wandb.ai/mfilan/image%20dewarping\" target=\"_blank\">Weights & Biases</a> (<a href=\"https://docs.wandb.com/integrations/jupyter.html\" target=\"_blank\">docs</a>).<br/>\n",
       "\n",
       "                "
      ],
      "text/plain": [
       "<IPython.core.display.HTML object>"
      ]
     },
     "metadata": {},
     "output_type": "display_data"
    },
    {
     "data": {
      "application/vnd.jupyter.widget-view+json": {
       "model_id": "45f232d8268b4dbb8ebb5f08dad9fb34",
       "version_major": 2,
       "version_minor": 0
      },
      "text/plain": [
       "Progress:   0%|          | 0/20 [00:00<?, ?it/s]"
      ]
     },
     "metadata": {},
     "output_type": "display_data"
    },
    {
     "data": {
      "application/vnd.jupyter.widget-view+json": {
       "model_id": "",
       "version_major": 2,
       "version_minor": 0
      },
      "text/plain": [
       "Training:   0%|          | 0/512 [00:00<?, ?it/s]"
      ]
     },
     "metadata": {},
     "output_type": "display_data"
    },
    {
     "data": {
      "application/vnd.jupyter.widget-view+json": {
       "model_id": "",
       "version_major": 2,
       "version_minor": 0
      },
      "text/plain": [
       "Validation:   0%|          | 0/1024 [00:00<?, ?it/s]"
      ]
     },
     "metadata": {},
     "output_type": "display_data"
    },
    {
     "data": {
      "application/vnd.jupyter.widget-view+json": {
       "model_id": "",
       "version_major": 2,
       "version_minor": 0
      },
      "text/plain": [
       "Training:   0%|          | 0/512 [00:00<?, ?it/s]"
      ]
     },
     "metadata": {},
     "output_type": "display_data"
    },
    {
     "data": {
      "application/vnd.jupyter.widget-view+json": {
       "model_id": "",
       "version_major": 2,
       "version_minor": 0
      },
      "text/plain": [
       "Validation:   0%|          | 0/1024 [00:00<?, ?it/s]"
      ]
     },
     "metadata": {},
     "output_type": "display_data"
    },
    {
     "data": {
      "application/vnd.jupyter.widget-view+json": {
       "model_id": "",
       "version_major": 2,
       "version_minor": 0
      },
      "text/plain": [
       "Training:   0%|          | 0/512 [00:00<?, ?it/s]"
      ]
     },
     "metadata": {},
     "output_type": "display_data"
    },
    {
     "data": {
      "application/vnd.jupyter.widget-view+json": {
       "model_id": "",
       "version_major": 2,
       "version_minor": 0
      },
      "text/plain": [
       "Validation:   0%|          | 0/1024 [00:00<?, ?it/s]"
      ]
     },
     "metadata": {},
     "output_type": "display_data"
    },
    {
     "data": {
      "application/vnd.jupyter.widget-view+json": {
       "model_id": "",
       "version_major": 2,
       "version_minor": 0
      },
      "text/plain": [
       "Training:   0%|          | 0/512 [00:00<?, ?it/s]"
      ]
     },
     "metadata": {},
     "output_type": "display_data"
    },
    {
     "data": {
      "application/vnd.jupyter.widget-view+json": {
       "model_id": "",
       "version_major": 2,
       "version_minor": 0
      },
      "text/plain": [
       "Validation:   0%|          | 0/1024 [00:00<?, ?it/s]"
      ]
     },
     "metadata": {},
     "output_type": "display_data"
    },
    {
     "data": {
      "application/vnd.jupyter.widget-view+json": {
       "model_id": "",
       "version_major": 2,
       "version_minor": 0
      },
      "text/plain": [
       "Training:   0%|          | 0/512 [00:00<?, ?it/s]"
      ]
     },
     "metadata": {},
     "output_type": "display_data"
    },
    {
     "data": {
      "application/vnd.jupyter.widget-view+json": {
       "model_id": "",
       "version_major": 2,
       "version_minor": 0
      },
      "text/plain": [
       "Validation:   0%|          | 0/1024 [00:00<?, ?it/s]"
      ]
     },
     "metadata": {},
     "output_type": "display_data"
    },
    {
     "data": {
      "application/vnd.jupyter.widget-view+json": {
       "model_id": "",
       "version_major": 2,
       "version_minor": 0
      },
      "text/plain": [
       "Training:   0%|          | 0/512 [00:00<?, ?it/s]"
      ]
     },
     "metadata": {},
     "output_type": "display_data"
    },
    {
     "data": {
      "application/vnd.jupyter.widget-view+json": {
       "model_id": "019d7112b28849bab16b4ecee0b7ad7a",
       "version_major": 2,
       "version_minor": 0
      },
      "text/plain": [
       "Validation:   0%|          | 0/1024 [00:00<?, ?it/s]"
      ]
     },
     "metadata": {},
     "output_type": "display_data"
    }
   ],
   "source": [
    "\n",
    "# trainer\n",
    "trainer = Trainer(model=model,\n",
    "                  device=device,\n",
    "                  criterion=criterion,\n",
    "                  optimizer=optimizer,\n",
    "                  training_DataLoader=dataloader_training,\n",
    "                  validation_DataLoader=dataloader_validation,\n",
    "                  lr_scheduler=scheduler,\n",
    "                  epochs=20,\n",
    "                  epoch=0,\n",
    "                  notebook=True,\n",
    "                  use_wandb=True,\n",
    "                  save_model_name=f\"model{model.__class__.__name__}_100epoches.pth\")\n",
    "\n",
    "# start training\n",
    "training_losses, validation_losses, lr_rates = trainer.run_trainer()\n",
    "\n"
   ]
  },
  {
   "cell_type": "code",
   "execution_count": null,
   "id": "68e22e97",
   "metadata": {
    "ExecuteTime": {
     "end_time": "2022-01-25T16:52:42.122670Z",
     "start_time": "2022-01-25T16:52:30.769Z"
    }
   },
   "outputs": [],
   "source": [
    "from tqdm import tqdm"
   ]
  },
  {
   "cell_type": "code",
   "execution_count": 13,
   "id": "ba19ce41",
   "metadata": {},
   "outputs": [
    {
     "data": {
      "text/plain": [
       "683"
      ]
     },
     "execution_count": 13,
     "metadata": {},
     "output_type": "execute_result"
    }
   ],
   "source": [
    "len(test_index)"
   ]
  },
  {
   "cell_type": "code",
   "execution_count": null,
   "id": "60704aad",
   "metadata": {
    "ExecuteTime": {
     "end_time": "2022-01-25T16:52:42.123903Z",
     "start_time": "2022-01-25T16:52:30.771Z"
    }
   },
   "outputs": [],
   "source": [
    "batch_iter = tqdm(enumerate(dataloader_validation), 'Training', total=len(dataloader_validation),\n",
    "                          leave=False)\n",
    "\n",
    "for i, (x, y) in batch_iter:\n",
    "    with torch.no_grad():\n",
    "        input, target = x.to(device), y.to(device)  # send to device (GPU or CPU)\n",
    "        out = model(input)  # one forward pass\n",
    "    break"
   ]
  },
  {
   "cell_type": "code",
   "execution_count": 17,
   "id": "a4851b5b",
   "metadata": {},
   "outputs": [],
   "source": [
    "if torch.cuda.is_available():\n",
    "    device = torch.device('cuda')\n",
    "else:\n",
    "    torch.device('cpu')\n",
    "\n",
    "# model\n",
    "model = DewarpingUNet(3,1).to(device)\n",
    "\n",
    "# criterion\n",
    "criterion =  DewarpingMS_SSIM_Loss(data_range=1.0, size_average=True, channel=1)\n",
    "\n",
    "# optimizer \n",
    "optimizer = torch.optim.SGD(model.parameters(), lr=10**(-3.5))\n",
    "\n",
    "scheduler = torch.optim.lr_scheduler.StepLR(optimizer,  0.1, gamma=50)"
   ]
  },
  {
   "cell_type": "code",
   "execution_count": null,
   "id": "2920c06b",
   "metadata": {
    "ExecuteTime": {
     "end_time": "2022-01-25T16:52:42.125116Z",
     "start_time": "2022-01-25T16:52:30.774Z"
    }
   },
   "outputs": [],
   "source": [
    "from sklearn.externals._pilutil import bytescale"
   ]
  },
  {
   "cell_type": "code",
   "execution_count": 8,
   "id": "76d14cdb",
   "metadata": {
    "ExecuteTime": {
     "end_time": "2022-01-25T16:52:32.027721Z",
     "start_time": "2022-01-25T16:52:32.025444Z"
    }
   },
   "outputs": [],
   "source": []
  },
  {
   "cell_type": "code",
   "execution_count": null,
   "id": "f8f0e599",
   "metadata": {
    "ExecuteTime": {
     "end_time": "2022-01-25T16:52:42.126772Z",
     "start_time": "2022-01-25T16:52:30.776Z"
    }
   },
   "outputs": [],
   "source": [
    "def re_normalize(inp: np.ndarray, low: int = 0, high: int = 255):\n",
    "    \"\"\"Normalize the data to a certain range. Default: [0-255]\"\"\"\n",
    "    inp_out = bytescale(inp, low=low, high=high)\n",
    "    return inp_out"
   ]
  },
  {
   "cell_type": "code",
   "execution_count": null,
   "id": "29abcd80",
   "metadata": {
    "ExecuteTime": {
     "end_time": "2022-01-25T16:52:42.128461Z",
     "start_time": "2022-01-25T16:52:30.777Z"
    }
   },
   "outputs": [],
   "source": [
    "plt.imshow(np.squeeze(target[0].detach().cpu().numpy()))"
   ]
  },
  {
   "cell_type": "code",
   "execution_count": null,
   "id": "9ce5e045",
   "metadata": {
    "ExecuteTime": {
     "end_time": "2022-01-25T16:52:42.129924Z",
     "start_time": "2022-01-25T16:52:30.780Z"
    }
   },
   "outputs": [],
   "source": [
    "Image.fromarray(re_normalize(np.moveaxis(np.squeeze(input[0].detach().cpu().numpy()),0, -1)))"
   ]
  },
  {
   "cell_type": "code",
   "execution_count": null,
   "id": "db410969",
   "metadata": {},
   "outputs": [],
   "source": []
  }
 ],
 "metadata": {
  "kernelspec": {
   "display_name": "Python 3 (ipykernel)",
   "language": "python",
   "name": "python3"
  },
  "language_info": {
   "codemirror_mode": {
    "name": "ipython",
    "version": 3
   },
   "file_extension": ".py",
   "mimetype": "text/x-python",
   "name": "python",
   "nbconvert_exporter": "python",
   "pygments_lexer": "ipython3",
   "version": "3.8.10"
  },
  "toc": {
   "base_numbering": 1,
   "nav_menu": {},
   "number_sections": true,
   "sideBar": true,
   "skip_h1_title": false,
   "title_cell": "Table of Contents",
   "title_sidebar": "Contents",
   "toc_cell": false,
   "toc_position": {},
   "toc_section_display": true,
   "toc_window_display": false
  }
 },
 "nbformat": 4,
 "nbformat_minor": 5
}
